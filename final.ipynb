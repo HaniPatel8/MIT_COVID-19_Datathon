{
  "nbformat": 4,
  "nbformat_minor": 0,
  "metadata": {
    "kernelspec": {
      "display_name": "Python 3",
      "language": "python",
      "name": "python3"
    },
    "language_info": {
      "codemirror_mode": {
        "name": "ipython",
        "version": 3
      },
      "file_extension": ".py",
      "mimetype": "text/x-python",
      "name": "python",
      "nbconvert_exporter": "python",
      "pygments_lexer": "ipython3",
      "version": "3.7.4"
    },
    "colab": {
      "name": "final.ipynb",
      "provenance": [],
      "collapsed_sections": []
    }
  },
  "cells": [
    {
      "cell_type": "markdown",
      "metadata": {
        "id": "574Rq_yVFDHz",
        "colab_type": "text"
      },
      "source": [
        "MIT COVID-19 Datathon\n",
        "\n",
        "Research Question: \n",
        "How did U.S. state-level shelter-in-place orders impact the proportion of COVID-19 positive cases (among those tested) and does this impact differ by socioeconomic status?"
      ]
    },
    {
      "cell_type": "code",
      "metadata": {
        "id": "MLq5uXvlFDH1",
        "colab_type": "code",
        "colab": {
          "base_uri": "https://localhost:8080/",
          "height": 71
        },
        "outputId": "660b891b-2214-4667-9f22-f011d6e3cc72"
      },
      "source": [
        "# import requirements\n",
        "import pandas as pd\n",
        "import numpy as np\n",
        "import matplotlib.pyplot as plt\n",
        "import seaborn as sns\n",
        "%matplotlib inline\n",
        "import statistics as stat\n",
        "from pylab import rcParams"
      ],
      "execution_count": 2,
      "outputs": [
        {
          "output_type": "stream",
          "text": [
            "/usr/local/lib/python3.6/dist-packages/statsmodels/tools/_testing.py:19: FutureWarning: pandas.util.testing is deprecated. Use the functions in the public API at pandas.testing instead.\n",
            "  import pandas.util.testing as tm\n"
          ],
          "name": "stderr"
        }
      ]
    },
    {
      "cell_type": "code",
      "metadata": {
        "id": "RprGs2rbFDH3",
        "colab_type": "code",
        "colab": {}
      },
      "source": [
        "df = pd.read_csv(\"https://raw.githubusercontent.com/smruthiramesh/MIT_COVID-19_Datathon/master/ny_county_data/ny_county_data.csv\")\n",
        "county_data = pd.read_csv(\"https://raw.githubusercontent.com/JieYingWu/COVID-19_US_County-level_Summaries/master/data/counties.csv\")"
      ],
      "execution_count": 0,
      "outputs": []
    },
    {
      "cell_type": "code",
      "metadata": {
        "id": "43tARJ9Mq2qd",
        "colab_type": "code",
        "colab": {}
      },
      "source": [
        "#joining with county data so we have population\n",
        "df = df.set_index('FIPS').join(county_data.set_index('FIPS')['Density per square mile of land area - Population']).reset_index()"
      ],
      "execution_count": 0,
      "outputs": []
    },
    {
      "cell_type": "code",
      "metadata": {
        "id": "UveRXkTPFDH9",
        "colab_type": "code",
        "colab": {}
      },
      "source": [
        "#dropping extra column\n",
        "df.drop(\"Unnamed: 0\",axis=1,inplace=True)\n",
        "#renaming columns\n",
        "df = df.rename(columns={'Density per square mile of land area - Population':'pop_density', 'transit_scores - population weighted averages aggregated from town/city level to county':'transit_scores'})"
      ],
      "execution_count": 0,
      "outputs": []
    },
    {
      "cell_type": "code",
      "metadata": {
        "id": "xE_6pPlbFDH_",
        "colab_type": "code",
        "colab": {}
      },
      "source": [
        "#create outcome variable - proportion of new daily positive COVID-19 cases \n",
        "df['proportion_cases'] = df['New Positives']/df['Total Number of Tests Performed']"
      ],
      "execution_count": 0,
      "outputs": []
    },
    {
      "cell_type": "code",
      "metadata": {
        "scrolled": true,
        "id": "tTIQLVRTFDIB",
        "colab_type": "code",
        "colab": {
          "base_uri": "https://localhost:8080/",
          "height": 221
        },
        "outputId": "c257ce08-3122-492f-9981-9a7d81b0f00e"
      },
      "source": [
        "#Exploring df\n",
        "df.head(5)\n",
        "df.tail(5)\n",
        "df.dtypes"
      ],
      "execution_count": 7,
      "outputs": [
        {
          "output_type": "execute_result",
          "data": {
            "text/plain": [
              "FIPS                                      int64\n",
              "Median_Household_Income_2018            float64\n",
              "transit_scores                          float64\n",
              "Test Date                                object\n",
              "New Positives                           float64\n",
              "Cumulative Number of Positives          float64\n",
              "Total Number of Tests Performed         float64\n",
              "Cumulative Number of Tests Performed    float64\n",
              "After Order                               int64\n",
              "pop_density                             float64\n",
              "proportion_cases                        float64\n",
              "dtype: object"
            ]
          },
          "metadata": {
            "tags": []
          },
          "execution_count": 7
        }
      ]
    },
    {
      "cell_type": "code",
      "metadata": {
        "id": "6HouZrwZrp9x",
        "colab_type": "code",
        "colab": {}
      },
      "source": [
        "#dropping NA values in proportion cases resulting from days with 0 tests\n",
        "df.dropna(axis=0,how='any',subset=['proportion_cases'],inplace=True)"
      ],
      "execution_count": 0,
      "outputs": []
    },
    {
      "cell_type": "code",
      "metadata": {
        "id": "vOLcQTBIrueX",
        "colab_type": "code",
        "colab": {
          "base_uri": "https://localhost:8080/",
          "height": 34
        },
        "outputId": "8679d7c3-8293-4bc9-dca8-1ed7b5cd270a"
      },
      "source": [
        "print(\"Proportion of test data that is zero positive cases: \",df[df['proportion_cases']==0.0].shape[0]/df.shape[0])"
      ],
      "execution_count": 9,
      "outputs": [
        {
          "output_type": "stream",
          "text": [
            "Proportion of test data that is zero positive cases:  0.2895282529808191\n"
          ],
          "name": "stdout"
        }
      ]
    },
    {
      "cell_type": "markdown",
      "metadata": {
        "id": "VFFwkU9WrxvK",
        "colab_type": "text"
      },
      "source": [
        "We are going to select only the records where there is at least one positive case (citation:, reasoning:)"
      ]
    },
    {
      "cell_type": "code",
      "metadata": {
        "id": "5NBmTtFCrwqH",
        "colab_type": "code",
        "colab": {}
      },
      "source": [
        "df = df[df['proportion_cases']!=0.0]"
      ],
      "execution_count": 0,
      "outputs": []
    },
    {
      "cell_type": "code",
      "metadata": {
        "id": "Xj6zbKNOFDII",
        "colab_type": "code",
        "colab": {
          "base_uri": "https://localhost:8080/",
          "height": 297
        },
        "outputId": "b4fc1788-4a24-4531-b2e4-5b7e7edde116"
      },
      "source": [
        "df[['New Positives', 'Total Number of Tests Performed', 'proportion_cases']].describe()"
      ],
      "execution_count": 11,
      "outputs": [
        {
          "output_type": "execute_result",
          "data": {
            "text/html": [
              "<div>\n",
              "<style scoped>\n",
              "    .dataframe tbody tr th:only-of-type {\n",
              "        vertical-align: middle;\n",
              "    }\n",
              "\n",
              "    .dataframe tbody tr th {\n",
              "        vertical-align: top;\n",
              "    }\n",
              "\n",
              "    .dataframe thead th {\n",
              "        text-align: right;\n",
              "    }\n",
              "</style>\n",
              "<table border=\"1\" class=\"dataframe\">\n",
              "  <thead>\n",
              "    <tr style=\"text-align: right;\">\n",
              "      <th></th>\n",
              "      <th>New Positives</th>\n",
              "      <th>Total Number of Tests Performed</th>\n",
              "      <th>proportion_cases</th>\n",
              "    </tr>\n",
              "  </thead>\n",
              "  <tbody>\n",
              "    <tr>\n",
              "      <th>count</th>\n",
              "      <td>2741.000000</td>\n",
              "      <td>2741.000000</td>\n",
              "      <td>2741.000000</td>\n",
              "    </tr>\n",
              "    <tr>\n",
              "      <th>mean</th>\n",
              "      <td>2761.903320</td>\n",
              "      <td>10925.080992</td>\n",
              "      <td>0.169103</td>\n",
              "    </tr>\n",
              "    <tr>\n",
              "      <th>std</th>\n",
              "      <td>10200.486143</td>\n",
              "      <td>30387.392679</td>\n",
              "      <td>0.148743</td>\n",
              "    </tr>\n",
              "    <tr>\n",
              "      <th>min</th>\n",
              "      <td>1.000000</td>\n",
              "      <td>4.000000</td>\n",
              "      <td>0.001616</td>\n",
              "    </tr>\n",
              "    <tr>\n",
              "      <th>25%</th>\n",
              "      <td>45.000000</td>\n",
              "      <td>540.000000</td>\n",
              "      <td>0.063636</td>\n",
              "    </tr>\n",
              "    <tr>\n",
              "      <th>50%</th>\n",
              "      <td>135.000000</td>\n",
              "      <td>1464.000000</td>\n",
              "      <td>0.123249</td>\n",
              "    </tr>\n",
              "    <tr>\n",
              "      <th>75%</th>\n",
              "      <td>650.000000</td>\n",
              "      <td>4717.000000</td>\n",
              "      <td>0.225082</td>\n",
              "    </tr>\n",
              "    <tr>\n",
              "      <th>max</th>\n",
              "      <td>135660.000000</td>\n",
              "      <td>295750.000000</td>\n",
              "      <td>1.000000</td>\n",
              "    </tr>\n",
              "  </tbody>\n",
              "</table>\n",
              "</div>"
            ],
            "text/plain": [
              "       New Positives  Total Number of Tests Performed  proportion_cases\n",
              "count    2741.000000                      2741.000000       2741.000000\n",
              "mean     2761.903320                     10925.080992          0.169103\n",
              "std     10200.486143                     30387.392679          0.148743\n",
              "min         1.000000                         4.000000          0.001616\n",
              "25%        45.000000                       540.000000          0.063636\n",
              "50%       135.000000                      1464.000000          0.123249\n",
              "75%       650.000000                      4717.000000          0.225082\n",
              "max    135660.000000                    295750.000000          1.000000"
            ]
          },
          "metadata": {
            "tags": []
          },
          "execution_count": 11
        }
      ]
    },
    {
      "cell_type": "markdown",
      "metadata": {
        "id": "WHEpuSecFDIL",
        "colab_type": "text"
      },
      "source": [
        "On average, there was a daily COVID-19 positive rate of  ~17% in NY State. \n",
        "We will test if this changed over time and if it changed before and after \"New York State on PAUSE\" executive order on March 22, 2020. "
      ]
    },
    {
      "cell_type": "code",
      "metadata": {
        "id": "-6MBApyZFDIL",
        "colab_type": "code",
        "colab": {
          "base_uri": "https://localhost:8080/",
          "height": 295
        },
        "outputId": "b4584b2f-4462-45bb-f985-41a67d8311f3"
      },
      "source": [
        "#histogram of outcome variable\n",
        "plt.hist(df[\"proportion_cases\"], bins = 15)\n",
        "plt.xlabel(\"proportion\")\n",
        "plt.ylabel(\"Frequency\")\n",
        "plt.title(\"Proportion of New Daily COVID-19 Cases in NY State\");"
      ],
      "execution_count": 12,
      "outputs": [
        {
          "output_type": "display_data",
          "data": {
            "image/png": "[encoded data removed]",
            "text/plain": [
              "<Figure size 432x288 with 1 Axes>"
            ]
          },
          "metadata": {
            "tags": [],
            "needs_background": "light"
          }
        }
      ]
    },
    {
      "cell_type": "markdown",
      "metadata": {
        "id": "nWAOmnNcFDIN",
        "colab_type": "text"
      },
      "source": [
        "Outcome is right-skewed; looks like majority of proportions are between 0.0-0.12 (0-12% daily new cases in the state)"
      ]
    },
    {
      "cell_type": "code",
      "metadata": {
        "id": "Y6OvqCIyFDIc",
        "colab_type": "code",
        "colab": {
          "base_uri": "https://localhost:8080/",
          "height": 268
        },
        "outputId": "65bc07dc-3951-4cbc-b4a8-d11722c420ed"
      },
      "source": [
        "#log transform outcome \n",
        "df[\"proportion_cases\"].apply(np.log).hist()\n",
        "plt.show()"
      ],
      "execution_count": 15,
      "outputs": [
        {
          "output_type": "display_data",
          "data": {
            "image/png": "[encoded data removed]",
            "text/plain": [
              "<Figure size 432x288 with 1 Axes>"
            ]
          },
          "metadata": {
            "tags": [],
            "needs_background": "light"
          }
        }
      ]
    },
    {
      "cell_type": "code",
      "metadata": {
        "id": "rKpLET9ytwAT",
        "colab_type": "code",
        "colab": {}
      },
      "source": [
        "#creating a new column of log transformed values\n",
        "df['log_proportion'] = df[\"proportion_cases\"].apply(np.log)"
      ],
      "execution_count": 0,
      "outputs": []
    },
    {
      "cell_type": "markdown",
      "metadata": {
        "id": "NzMALAvRFDIf",
        "colab_type": "text"
      },
      "source": [
        "Create new intervention variable for \"New York State on PAUSE\" similar to how researchers defined it in the ITS paper Pamela sent. \n",
        "\n",
        "\"Pre-implementation (14 days prior, through three days after, implementation of the first statewide social distancing measure) versus post-implementation (four or more days after implementation). We selected this transition point based on estimates of the COVID-19 incubation period\". https://www.medrxiv.org/content/10.1101/2020.04.03.20052373v2.full.pdf \n",
        "\n",
        "Our definition:\n",
        "pre-pause dates: 14 days prior, through three days after, March 22, 2020 \n",
        "March 8, 2020 - March 25, 2020 (including March 25)\n",
        "\n",
        "post-pause dates: 4 or more days after March 22, 2020\n",
        "March 26, 2020 - most current date\n"
      ]
    },
    {
      "cell_type": "code",
      "metadata": {
        "id": "EGhSnHvc1hq9",
        "colab_type": "code",
        "colab": {}
      },
      "source": [
        "#sorting data by date\n",
        "df = df.sort_values('Test Date')"
      ],
      "execution_count": 0,
      "outputs": []
    },
    {
      "cell_type": "code",
      "metadata": {
        "id": "kVQpXNXhvEZZ",
        "colab_type": "code",
        "colab": {}
      },
      "source": [
        "#converting type to datetime for comparisons\n",
        "df['dt_test_date'] = pd.to_datetime(df['Test Date'])"
      ],
      "execution_count": 0,
      "outputs": []
    },
    {
      "cell_type": "code",
      "metadata": {
        "id": "e789UtKqFDIf",
        "colab_type": "code",
        "colab": {}
      },
      "source": [
        "#Creating new binary intervention variable for \"New York State on PAUSE\"\n",
        "df['After Order'] = np.where(df['dt_test_date'].apply(lambda x: x>= pd.to_datetime('03/26/2020').date()), 1, 0)"
      ],
      "execution_count": 0,
      "outputs": []
    },
    {
      "cell_type": "markdown",
      "metadata": {
        "id": "liEs9dhpFDIh",
        "colab_type": "text"
      },
      "source": [
        "Create pre-pause time trend variable: assign a number to each unique date in ascending order, starting with 1. This variable will be our pre-pause trend variable."
      ]
    },
    {
      "cell_type": "code",
      "metadata": {
        "id": "K-EaJOP4FDIi",
        "colab_type": "code",
        "colab": {}
      },
      "source": [
        "#Creating new time variable for pre-pause trend\n",
        "\n",
        "#total list of unique dates in df\n",
        "total_range = df['Test Date'].unique()\n",
        "\n",
        "dates_total = [str(x).split()[0] for x in total_range]\n",
        "date_numbers = list(range(1,len(dates_total)+1))\n",
        "mapping_dict = dict(list(zip(dates_total, date_numbers)))\n",
        "\n",
        "#creating pre trend column\n",
        "df['Pre Trend'] = df['Test Date'].apply(lambda x: mapping_dict[x])"
      ],
      "execution_count": 0,
      "outputs": []
    },
    {
      "cell_type": "markdown",
      "metadata": {
        "id": "MfEEQRH5FDIk",
        "colab_type": "text"
      },
      "source": [
        "Create another time variable to look at post-trend sustained effects: any date prior to March 26, 2020 gets a 0, and any dates on or after March 26, 2020 gets assigned a number in ascending order, starting with 1"
      ]
    },
    {
      "cell_type": "code",
      "metadata": {
        "id": "qBiaDEV3FDIk",
        "colab_type": "code",
        "colab": {}
      },
      "source": [
        "#Creating new time variable for post-pause trend\n",
        "\n",
        "post_range = df[df['After Order']==1]['Test Date'].unique()\n",
        "\n",
        "#setting post trend values for dates from March 26 onwards\n",
        "dates_post = [str(x).split()[0] for x in post_range]\n",
        "post_numbers = list(range(1,len(dates_post)+1))\n",
        "mapping_dict_post = dict(list(zip(dates_post, post_numbers)))\n",
        "\n",
        "#setting post trend values for dates before March 26 \n",
        "dates_pre = [x for x in total_range if x not in post_range]\n",
        "pre_numbers = [0]*len(dates_pre)\n",
        "mapping_dict_post.update(dict(list(zip(dates_pre, pre_numbers))))\n",
        "\n",
        "#creating post trend column\n",
        "df['Post Trend'] = df['Test Date'].apply(lambda x: mapping_dict_post[x])"
      ],
      "execution_count": 0,
      "outputs": []
    },
    {
      "cell_type": "markdown",
      "metadata": {
        "id": "vxzdGFq1FDIm",
        "colab_type": "text"
      },
      "source": [
        "Create a time series graph for log-outcome over time and mark the implementation date of NY State on PAUSE: March 22, 2020 and also mark 4 days after this, March 26, 2020"
      ]
    },
    {
      "cell_type": "code",
      "metadata": {
        "id": "ZsZOHmsq7QTs",
        "colab_type": "code",
        "colab": {}
      },
      "source": [
        "new_df = df.groupby('Test Date')['log_proportion'].mean().reset_index()"
      ],
      "execution_count": 0,
      "outputs": []
    },
    {
      "cell_type": "code",
      "metadata": {
        "id": "RaFMgLPGFDIn",
        "colab_type": "code",
        "colab": {
          "base_uri": "https://localhost:8080/",
          "height": 621
        },
        "outputId": "55eb5721-5e0e-47ae-b365-0b5571ee685c"
      },
      "source": [
        "#date ranges for testing data (used for setting x ticks in plotting)\n",
        "ranges = pd.date_range(min(df['Test Date']),max(df['Test Date']), freq='10D')\n",
        "plot_dates = [str(x).split()[0] for x in ranges]\n",
        "\n",
        "#outcome values at marker dates\n",
        "o1= round(float(new_df[new_df['Test Date']=='2020-03-22']['log_proportion']),2)\n",
        "o2 = round(float(new_df[new_df['Test Date']=='2020-03-26']['log_proportion']),2)\n",
        "\n",
        "fig = plt.figure()\n",
        "ax = fig.add_subplot(111)\n",
        "\n",
        "#Creating time series graph\n",
        "plt.plot(new_df['Test Date'], new_df['log_proportion'])\n",
        "plt.xticks(plot_dates)\n",
        "\n",
        "#creating markers\n",
        "A = '2020-03-22','2020-03-26'\n",
        "B = o1,o2\n",
        "for xy in zip(A, B):\n",
        "  ax.annotate('%s: %s' % xy, xy=xy, textcoords='data',arrowprops=dict(facecolor='black', shrink=0.05))\n",
        "\n",
        "rcParams['figure.figsize'] = 10,10\n",
        "\n",
        "plt.title(\"Mean log-outcome for NY State by date\")\n",
        "plt.xlabel(\"Date\")\n",
        "plt.ylabel(\"Mean log-outcome\");"
      ],
      "execution_count": 119,
      "outputs": [
        {
          "output_type": "display_data",
          "data": {
            "image/png": "[encoded data removed]",
            "text/plain": [
              "<Figure size 720x720 with 1 Axes>"
            ]
          },
          "metadata": {
            "tags": [],
            "needs_background": "light"
          }
        }
      ]
    },
    {
      "cell_type": "code",
      "metadata": {
        "id": "Nyw-yf_UBGPD",
        "colab_type": "code",
        "colab": {
          "base_uri": "https://localhost:8080/",
          "height": 122
        },
        "outputId": "04e93f32-5b21-4ca0-e0f2-694319994c72"
      },
      "source": [
        "from google.colab import drive\n",
        "drive.mount('drive')\n",
        "df.to_csv('data.csv')\n",
        "!cp data.csv \"drive/My Drive/\""
      ],
      "execution_count": 129,
      "outputs": [
        {
          "output_type": "stream",
          "text": [
            "Go to this URL in a browser: https://accounts.google.com/o/oauth2/auth?client_id=947318989803-6bn6qk8qdgf4n4g3pfee6491hc0brc4i.apps.googleusercontent.com&redirect_uri=urn%3aietf%3awg%3aoauth%3a2.0%3aoob&response_type=code&scope=email%20https%3a%2f%2fwww.googleapis.com%2fauth%2fdocs.test%20https%3a%2f%2fwww.googleapis.com%2fauth%2fdrive%20https%3a%2f%2fwww.googleapis.com%2fauth%2fdrive.photos.readonly%20https%3a%2f%2fwww.googleapis.com%2fauth%2fpeopleapi.readonly\n",
            "\n",
            "Enter your authorization code:\n",
            "··········\n",
            "Mounted at drive\n"
          ],
          "name": "stdout"
        }
      ]
    },
    {
      "cell_type": "markdown",
      "metadata": {
        "id": "NLoKILyDFDIo",
        "colab_type": "text"
      },
      "source": [
        "Create ITS mixed effects linear regression model\n",
        "\n",
        "y = log proportion of new positive COVID-19 cases\n",
        "\n",
        "x = post_pause (the binary intervention variable)\n",
        "\n",
        "Other independent variables in model: pre-pause time, interaction term between pre-pause time and post_pause, post_trend\n",
        "\n",
        "Include County random effect\n",
        "\n",
        "If interaction term is statistically significant, then the intervention had an effect on the proportion of new COVID-19 cases\n",
        "\n",
        "Work on including the income and maybe transit variable into the model afterwards\n"
      ]
    }
  ]
}