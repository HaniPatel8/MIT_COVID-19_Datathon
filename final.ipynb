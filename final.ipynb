{
 "cells": [
  {
   "cell_type": "markdown",
   "metadata": {
    "colab_type": "text",
    "id": "574Rq_yVFDHz"
   },
   "source": [
    "# MIT COVID-19 Datathon\n",
    "\n",
    "## Research Question: \n",
    "#### How did U.S. state-level shelter-in-place orders impact the proportion of COVID-19 positive cases (among those tested) and does this impact differ by socioeconomic status?"
   ]
  },
  {
   "cell_type": "code",
   "execution_count": 0,
   "metadata": {
    "colab": {},
    "colab_type": "code",
    "id": "MLq5uXvlFDH1"
   },
   "outputs": [],
   "source": [
    "# import requirements\n",
    "import pandas as pd\n",
    "import numpy as np\n",
    "import matplotlib.pyplot as plt\n",
    "import seaborn as sns\n",
    "%matplotlib inline\n",
    "import statistics as stat\n",
    "from pylab import rcParams"
   ]
  },
  {
   "cell_type": "code",
   "execution_count": 0,
   "metadata": {
    "colab": {},
    "colab_type": "code",
    "id": "RprGs2rbFDH3"
   },
   "outputs": [],
   "source": [
    "df = pd.read_csv(\"https://raw.githubusercontent.com/smruthiramesh/MIT_COVID-19_Datathon/master/ny_county_data/ny_county_data.csv\")"
   ]
  },
  {
   "cell_type": "markdown",
   "metadata": {
    "colab_type": "text",
    "id": "OonoY9fu78o6"
   },
   "source": [
    "## Basic Processing and Exploration"
   ]
  },
  {
   "cell_type": "code",
   "execution_count": 0,
   "metadata": {
    "colab": {},
    "colab_type": "code",
    "id": "7ohjhHL979J1"
   },
   "outputs": [],
   "source": [
    "#dropping extra column\n",
    "df.drop(\"Unnamed: 0\",axis=1,inplace=True)"
   ]
  },
  {
   "cell_type": "code",
   "execution_count": 65,
   "metadata": {
    "colab": {
     "base_uri": "https://localhost:8080/",
     "height": 221
    },
    "colab_type": "code",
    "id": "8bDTPc269pjY",
    "outputId": "231be1ee-2963-4fa6-c18f-222f2524f7b3"
   },
   "outputs": [
    {
     "data": {
      "text/html": [
       "<div>\n",
       "<style scoped>\n",
       "    .dataframe tbody tr th:only-of-type {\n",
       "        vertical-align: middle;\n",
       "    }\n",
       "\n",
       "    .dataframe tbody tr th {\n",
       "        vertical-align: top;\n",
       "    }\n",
       "\n",
       "    .dataframe thead th {\n",
       "        text-align: right;\n",
       "    }\n",
       "</style>\n",
       "<table border=\"1\" class=\"dataframe\">\n",
       "  <thead>\n",
       "    <tr style=\"text-align: right;\">\n",
       "      <th></th>\n",
       "      <th>FIPS</th>\n",
       "      <th>Median_Household_Income_2018</th>\n",
       "      <th>transit_scores</th>\n",
       "      <th>Test Date</th>\n",
       "      <th>New Positives</th>\n",
       "      <th>Cumulative Number of Positives</th>\n",
       "      <th>Total Number of Tests Performed</th>\n",
       "      <th>Cumulative Number of Tests Performed</th>\n",
       "    </tr>\n",
       "  </thead>\n",
       "  <tbody>\n",
       "    <tr>\n",
       "      <th>0</th>\n",
       "      <td>36001</td>\n",
       "      <td>64536.0</td>\n",
       "      <td>7.100041e+09</td>\n",
       "      <td>05/13/2020</td>\n",
       "      <td>15.0</td>\n",
       "      <td>1509.0</td>\n",
       "      <td>546.0</td>\n",
       "      <td>15792.0</td>\n",
       "    </tr>\n",
       "    <tr>\n",
       "      <th>1</th>\n",
       "      <td>36001</td>\n",
       "      <td>64536.0</td>\n",
       "      <td>7.100041e+09</td>\n",
       "      <td>05/12/2020</td>\n",
       "      <td>15.0</td>\n",
       "      <td>1494.0</td>\n",
       "      <td>335.0</td>\n",
       "      <td>15246.0</td>\n",
       "    </tr>\n",
       "    <tr>\n",
       "      <th>2</th>\n",
       "      <td>36001</td>\n",
       "      <td>64536.0</td>\n",
       "      <td>7.100041e+09</td>\n",
       "      <td>05/11/2020</td>\n",
       "      <td>23.0</td>\n",
       "      <td>1479.0</td>\n",
       "      <td>341.0</td>\n",
       "      <td>14911.0</td>\n",
       "    </tr>\n",
       "    <tr>\n",
       "      <th>3</th>\n",
       "      <td>36001</td>\n",
       "      <td>64536.0</td>\n",
       "      <td>7.100041e+09</td>\n",
       "      <td>05/10/2020</td>\n",
       "      <td>24.0</td>\n",
       "      <td>1456.0</td>\n",
       "      <td>384.0</td>\n",
       "      <td>14570.0</td>\n",
       "    </tr>\n",
       "    <tr>\n",
       "      <th>4</th>\n",
       "      <td>36001</td>\n",
       "      <td>64536.0</td>\n",
       "      <td>7.100041e+09</td>\n",
       "      <td>05/09/2020</td>\n",
       "      <td>16.0</td>\n",
       "      <td>1432.0</td>\n",
       "      <td>455.0</td>\n",
       "      <td>14186.0</td>\n",
       "    </tr>\n",
       "  </tbody>\n",
       "</table>\n",
       "</div>"
      ],
      "text/plain": [
       "    FIPS  ...  Cumulative Number of Tests Performed\n",
       "0  36001  ...                               15792.0\n",
       "1  36001  ...                               15246.0\n",
       "2  36001  ...                               14911.0\n",
       "3  36001  ...                               14570.0\n",
       "4  36001  ...                               14186.0\n",
       "\n",
       "[5 rows x 8 columns]"
      ]
     },
     "execution_count": 65,
     "metadata": {
      "tags": []
     },
     "output_type": "execute_result"
    }
   ],
   "source": [
    "df.head()"
   ]
  },
  {
   "cell_type": "code",
   "execution_count": 0,
   "metadata": {
    "colab": {},
    "colab_type": "code",
    "id": "L609JeuT9rdb"
   },
   "outputs": [],
   "source": [
    "#code to exclude days with zero tests\n",
    "# df = df[df['Total Number of Tests Performed']!=0.0]"
   ]
  },
  {
   "cell_type": "code",
   "execution_count": 70,
   "metadata": {
    "colab": {
     "base_uri": "https://localhost:8080/",
     "height": 34
    },
    "colab_type": "code",
    "id": "FmlDCHatBmg_",
    "outputId": "ebe0acca-be5d-4563-9285-255d856f138b"
   },
   "outputs": [
    {
     "name": "stdout",
     "output_type": "stream",
     "text": [
      "Proportion of test data that is zero positive cases:  0.296220633299285\n"
     ]
    }
   ],
   "source": [
    "print(\"Proportion of test data that is zero positive cases: \",df[df['New Positives']==0.0].shape[0]/df.shape[0])"
   ]
  },
  {
   "cell_type": "markdown",
   "metadata": {
    "colab_type": "text",
    "id": "Pj_rkMlEqGgS"
   },
   "source": [
    "## Feature Creation\n",
    "\n",
    "### Bucketing Household Income\n",
    "\n",
    "We will use 25th and 75th percentile of the income data to denote low-income and high-income counties."
   ]
  },
  {
   "cell_type": "code",
   "execution_count": 0,
   "metadata": {
    "colab": {},
    "colab_type": "code",
    "id": "8d-ETLR8qdNf"
   },
   "outputs": [],
   "source": [
    "#setting percentile cutoffs\n",
    "low_percentile = np.percentile(df['Median_Household_Income_2018'],25)\n",
    "high_percentile = np.percentile(df['Median_Household_Income_2018'],75)"
   ]
  },
  {
   "cell_type": "code",
   "execution_count": 0,
   "metadata": {
    "colab": {},
    "colab_type": "code",
    "id": "YJCvtpVsq6m6"
   },
   "outputs": [],
   "source": [
    "#creating column with bucketed income values\n",
    "col         = 'Median_Household_Income_2018'\n",
    "conditions  = [ df[col] > high_percentile, (df[col] <= high_percentile) & (df[col]> low_percentile), df[col] <= low_percentile ]\n",
    "choices     = [ 3, 2, 1 ]\n",
    "df['Income_Ctg'] = np.select(conditions, choices, default=np.nan)\n",
    "df['Income_Ctg'] = df['Income_Ctg'].apply(lambda x: int(x))"
   ]
  },
  {
   "cell_type": "markdown",
   "metadata": {
    "colab_type": "text",
    "id": "OvymOUZgrHHD"
   },
   "source": [
    "### Outcome Variable\n",
    "\n",
    "We use the natural log difference of cumulative cases as our outcome variable.\n",
    "(citation)"
   ]
  },
  {
   "cell_type": "code",
   "execution_count": 69,
   "metadata": {
    "colab": {
     "base_uri": "https://localhost:8080/",
     "height": 51
    },
    "colab_type": "code",
    "id": "-pFmLWm4AdaK",
    "outputId": "9158f369-9975-4e61-a885-2c5f95c2833f"
   },
   "outputs": [
    {
     "name": "stderr",
     "output_type": "stream",
     "text": [
      "/usr/local/lib/python3.6/dist-packages/pandas/core/algorithms.py:1926: RuntimeWarning: invalid value encountered in subtract\n",
      "  out_arr[res_indexer] = arr[res_indexer] - arr[lag_indexer]\n"
     ]
    }
   ],
   "source": [
    "#calculating natural log diff of cumulative positives and replacing first entry with zero\n",
    "df['NatLogDiff'] = np.append([0],np.array(df['Cumulative Number of Positives'].apply(np.log).diff())[1:])"
   ]
  },
  {
   "cell_type": "markdown",
   "metadata": {
    "colab_type": "text",
    "id": "N4f7Nh4WCj5V"
   },
   "source": [
    "### Trend variables\n",
    "\n",
    "\"Pre-implementation (14 days prior, through three days after, implementation of the first statewide social distancing measure) versus post-implementation (four or more days after implementation). We selected this transition point based on estimates of the COVID-19 incubation period\". https://www.medrxiv.org/content/10.1101/2020.04.03.20052373v2.full.pdf \n",
    "\n",
    "Our definition:\n",
    "pre-pause dates: 14 days prior, through three days after, March 22, 2020 \n",
    "March 8, 2020 - March 25, 2020 (including March 25)\n",
    "\n",
    "post-pause dates: 4 or more days after March 22, 2020\n",
    "March 26, 2020 - most current date\n"
   ]
  },
  {
   "cell_type": "markdown",
   "metadata": {
    "colab_type": "text",
    "id": "itmVdnGDHTGu"
   },
   "source": [
    "#### Binary variable to indicate pre and post intervention"
   ]
  },
  {
   "cell_type": "code",
   "execution_count": 0,
   "metadata": {
    "colab": {},
    "colab_type": "code",
    "id": "X7bdjnfXCfur"
   },
   "outputs": [],
   "source": [
    "#sorting data by date\n",
    "df = df.sort_values('Test Date')\n",
    "\n",
    "#converting type to datetime for comparisons\n",
    "df['dt_test_date'] = pd.to_datetime(df['Test Date'])\n",
    "\n",
    "#Creating new binary intervention variable for \"New York State on PAUSE\"\n",
    "df['After Order'] = np.where(df['dt_test_date'].apply(lambda x: x>= pd.to_datetime('03/26/2020').date()), 1, 0)"
   ]
  },
  {
   "cell_type": "markdown",
   "metadata": {
    "colab_type": "text",
    "id": "FDISwuFbCxbE"
   },
   "source": [
    "#### Pre-pause time trend variable\n",
    "\n",
    "We assign a number to each unique date in ascending order, starting with 1. This variable will be our pre-pause trend variable."
   ]
  },
  {
   "cell_type": "code",
   "execution_count": 0,
   "metadata": {
    "colab": {},
    "colab_type": "code",
    "id": "eCE5mqv_C2ph"
   },
   "outputs": [],
   "source": [
    "#total list of unique dates in df\n",
    "total_range = df['Test Date'].unique()\n",
    "\n",
    "dates_total = [str(x).split()[0] for x in total_range]\n",
    "date_numbers = list(range(1,len(dates_total)+1))\n",
    "mapping_dict = dict(list(zip(dates_total, date_numbers)))\n",
    "\n",
    "#creating pre trend column\n",
    "df['Pre Trend'] = df['Test Date'].apply(lambda x: mapping_dict[x])"
   ]
  },
  {
   "cell_type": "markdown",
   "metadata": {
    "colab_type": "text",
    "id": "TXK5H0c5HZ5_"
   },
   "source": [
    "### Visualization of log-outcome over time with markers "
   ]
  },
  {
   "cell_type": "markdown",
   "metadata": {
    "colab_type": "text",
    "id": "u-Jc-iCUDK7K"
   },
   "source": [
    "Create a time series graph for log-outcome over time and mark the implementation date of NY State on PAUSE: March 22, 2020 and also mark 4 days after this, March 26, 2020"
   ]
  },
  {
   "cell_type": "code",
   "execution_count": 0,
   "metadata": {
    "colab": {},
    "colab_type": "code",
    "id": "Wx854FJkEkyF"
   },
   "outputs": [],
   "source": [
    "#outcome is a mean over all counties for each test date \n",
    "grouped_df = df.groupby('Test Date')['NatLogDiff'].mean().reset_index()"
   ]
  },
  {
   "cell_type": "code",
   "execution_count": 115,
   "metadata": {
    "colab": {
     "base_uri": "https://localhost:8080/",
     "height": 659
    },
    "colab_type": "code",
    "id": "uEseuBP5C9Bq",
    "outputId": "023130fc-78f6-4601-d016-e1c7a04843fe"
   },
   "outputs": [
    {
     "data": {
      "image/png": "[encoded data removed]",
      "text/plain": [
       "<Figure size 720x720 with 1 Axes>"
      ]
     },
     "metadata": {
      "needs_background": "light",
      "tags": []
     },
     "output_type": "display_data"
    }
   ],
   "source": [
    "#date ranges for testing data (used for setting x ticks in plotting)\n",
    "ranges = pd.date_range(min(grouped_df['Test Date']),max(grouped_df['Test Date']), freq='10D')\n",
    "plot_dates = [str(x).split()[0] for x in ranges.strftime('%m/%d/%Y')]\n",
    "\n",
    "#outcome values at marker dates\n",
    "o1= round(float(grouped_df[grouped_df['Test Date']=='03/22/2020']['NatLogDiff']),2)\n",
    "o2 = round(float(grouped_df[grouped_df['Test Date']=='03/26/2020']['NatLogDiff']),2)\n",
    "\n",
    "fig = plt.figure()\n",
    "ax = fig.add_subplot(111)\n",
    "\n",
    "#Creating time series graph\n",
    "plt.plot(grouped_df['Test Date'], grouped_df['NatLogDiff'])\n",
    "plt.xticks(plot_dates)\n",
    "plt.xticks(rotation=45)\n",
    "\n",
    "#creating markers\n",
    "A = '03/22/2020','03/26/2020'\n",
    "B = o1,o2\n",
    "for xy in zip(A, B):\n",
    "  ax.annotate('%s: %s' % xy, xy=xy, textcoords='data',arrowprops=dict(facecolor='black', shrink=0.05))\n",
    "\n",
    "rcParams['figure.figsize'] = 10,10\n",
    "\n",
    "plt.title(\"Mean log-outcome for NY State by date\")\n",
    "plt.xlabel(\"Date\")\n",
    "plt.ylabel(\"Mean log-outcome\");"
   ]
  },
  {
   "cell_type": "markdown",
   "metadata": {
    "colab_type": "text",
    "id": "4X5fLkE8CHaC"
   },
   "source": [
    "## Proportion analysis - could keep in for EDA"
   ]
  },
  {
   "cell_type": "code",
   "execution_count": 0,
   "metadata": {
    "colab": {},
    "colab_type": "code",
    "id": "ilyqcBEmCJJ3"
   },
   "outputs": [],
   "source": [
    "df['proportion_cases'] = df['New Positives']/df['Total Number of Tests Performed']"
   ]
  },
  {
   "cell_type": "markdown",
   "metadata": {
    "colab_type": "text",
    "id": "WHEpuSecFDIL"
   },
   "source": [
    "On average, there was a daily COVID-19 positive rate of  ~17% in NY State. \n",
    "We will test if this changed over time and if it changed before and after \"New York State on PAUSE\" executive order on March 22, 2020. "
   ]
  },
  {
   "cell_type": "code",
   "execution_count": 77,
   "metadata": {
    "colab": {
     "base_uri": "https://localhost:8080/",
     "height": 295
    },
    "colab_type": "code",
    "id": "-6MBApyZFDIL",
    "outputId": "7a981ef3-6615-48e5-ef09-0f6421f74fd1"
   },
   "outputs": [
    {
     "data": {
      "image/png": "[encoded data removed]",
      "text/plain": [
       "<Figure size 432x288 with 1 Axes>"
      ]
     },
     "metadata": {
      "needs_background": "light",
      "tags": []
     },
     "output_type": "display_data"
    }
   ],
   "source": [
    "#histogram of outcome variable\n",
    "plt.hist(df[\"proportion_cases\"], bins = 15)\n",
    "plt.xlabel(\"proportion\")\n",
    "plt.ylabel(\"Frequency\")\n",
    "plt.title(\"Proportion of New Daily COVID-19 Cases in NY State\");"
   ]
  },
  {
   "cell_type": "markdown",
   "metadata": {
    "colab_type": "text",
    "id": "nWAOmnNcFDIN"
   },
   "source": [
    "Outcome is right-skewed; looks like majority of proportions are between 0.0-0.12 (0-12% daily new cases in the state)"
   ]
  },
  {
   "cell_type": "code",
   "execution_count": 78,
   "metadata": {
    "colab": {
     "base_uri": "https://localhost:8080/",
     "height": 267
    },
    "colab_type": "code",
    "id": "Y6OvqCIyFDIc",
    "outputId": "a22a4407-5dbf-4528-f92f-5677b89024da"
   },
   "outputs": [
    {
     "data": {
      "image/png": "[encoded data removed]",
      "text/plain": [
       "<Figure size 432x288 with 1 Axes>"
      ]
     },
     "metadata": {
      "needs_background": "light",
      "tags": []
     },
     "output_type": "display_data"
    }
   ],
   "source": [
    "#log transform outcome \n",
    "df[\"proportion_cases\"].apply(np.log).hist()\n",
    "plt.show()"
   ]
  },
  {
   "cell_type": "code",
   "execution_count": 0,
   "metadata": {
    "colab": {},
    "colab_type": "code",
    "id": "rKpLET9ytwAT"
   },
   "outputs": [],
   "source": [
    "#creating a new column of log transformed values\n",
    "df['log_proportion'] = df[\"proportion_cases\"].apply(np.log)"
   ]
  },
  {
   "cell_type": "markdown",
   "metadata": {
    "colab_type": "text",
    "id": "MfEEQRH5FDIk"
   },
   "source": [
    "#### Post-trend Variable - NOT USED CURRENTLY \n",
    "\n",
    "Creating another time variable to look at post-trend sustained effects.\n",
    "\n",
    "Any date prior to March 26, 2020 gets a 0, and any dates on or after March 26, 2020 gets assigned a number in ascending order, starting with 1"
   ]
  },
  {
   "cell_type": "code",
   "execution_count": 0,
   "metadata": {
    "colab": {},
    "colab_type": "code",
    "id": "qBiaDEV3FDIk"
   },
   "outputs": [],
   "source": [
    "#Creating new time variable for post-pause trend\n",
    "\n",
    "post_range = df[df['After Order']==1]['Test Date'].unique()\n",
    "\n",
    "#setting post trend values for dates from March 26 onwards\n",
    "dates_post = [str(x).split()[0] for x in post_range]\n",
    "post_numbers = list(range(1,len(dates_post)+1))\n",
    "mapping_dict_post = dict(list(zip(dates_post, post_numbers)))\n",
    "\n",
    "#setting post trend values for dates before March 26 \n",
    "dates_pre = [x for x in total_range if x not in post_range]\n",
    "pre_numbers = [0]*len(dates_pre)\n",
    "mapping_dict_post.update(dict(list(zip(dates_pre, pre_numbers))))\n",
    "\n",
    "#creating post trend column\n",
    "df['Post Trend'] = df['Test Date'].apply(lambda x: mapping_dict_post[x])"
   ]
  },
  {
   "cell_type": "markdown",
   "metadata": {
    "colab_type": "text",
    "id": "uhgFUWAtG3Db"
   },
   "source": [
    "## Code to save data if necessary"
   ]
  },
  {
   "cell_type": "code",
   "execution_count": 0,
   "metadata": {
    "colab": {},
    "colab_type": "code",
    "id": "Nyw-yf_UBGPD"
   },
   "outputs": [],
   "source": [
    "#code to save data\n",
    "\n",
    "# from google.colab import drive\n",
    "# drive.mount('drive')\n",
    "# df.to_csv('data.csv')\n",
    "# !cp data.csv \"drive/My Drive/\""
   ]
  },
  {
   "cell_type": "markdown",
   "metadata": {
    "colab_type": "text",
    "id": "9rOH8IRTG84v"
   },
   "source": [
    "## Modeling"
   ]
  },
  {
   "cell_type": "markdown",
   "metadata": {
    "colab_type": "text",
    "id": "NLoKILyDFDIo"
   },
   "source": [
    "Create ITS mixed effects linear regression model\n",
    "\n",
    "y = log proportion of new positive COVID-19 cases\n",
    "\n",
    "x = post_pause (the binary intervention variable)\n",
    "\n",
    "Other independent variables in model: pre-pause time, interaction term between pre-pause time and post_pause, post_trend\n",
    "\n",
    "Include County random effect\n",
    "\n",
    "If interaction term is statistically significant, then the intervention had an effect on the proportion of new COVID-19 cases\n",
    "\n",
    "Work on including the income and maybe transit variable into the model afterwards\n"
   ]
  },
  {
   "cell_type": "code",
   "execution_count": 0,
   "metadata": {
    "colab": {},
    "colab_type": "code",
    "id": "qaPCzNOGKrrQ"
   },
   "outputs": [],
   "source": [
    "import statsmodels.api as sm\n",
    "import statsmodels.formula.api as smf"
   ]
  },
  {
   "cell_type": "code",
   "execution_count": 0,
   "metadata": {
    "colab": {},
    "colab_type": "code",
    "id": "Icw9e4YYVEms"
   },
   "outputs": [],
   "source": [
    "df[\"Pre_Trend\"] = df[\"Pre Trend\"]\n",
    "# df[\"Post_Trend\"] = df[\"Post Trend\"]\n",
    "df[\"After_Order\"] = df[\"After Order\"]"
   ]
  },
  {
   "cell_type": "code",
   "execution_count": 122,
   "metadata": {
    "colab": {
     "base_uri": "https://localhost:8080/",
     "height": 275
    },
    "colab_type": "code",
    "id": "zfBz58j4BMRy",
    "outputId": "16b0193a-b3ea-438a-8f32-966bbd751f5d"
   },
   "outputs": [
    {
     "data": {
      "text/html": [
       "<div>\n",
       "<style scoped>\n",
       "    .dataframe tbody tr th:only-of-type {\n",
       "        vertical-align: middle;\n",
       "    }\n",
       "\n",
       "    .dataframe tbody tr th {\n",
       "        vertical-align: top;\n",
       "    }\n",
       "\n",
       "    .dataframe thead th {\n",
       "        text-align: right;\n",
       "    }\n",
       "</style>\n",
       "<table border=\"1\" class=\"dataframe\">\n",
       "  <thead>\n",
       "    <tr style=\"text-align: right;\">\n",
       "      <th></th>\n",
       "      <th>FIPS</th>\n",
       "      <th>Median_Household_Income_2018</th>\n",
       "      <th>transit_scores</th>\n",
       "      <th>Test Date</th>\n",
       "      <th>New Positives</th>\n",
       "      <th>Cumulative Number of Positives</th>\n",
       "      <th>Total Number of Tests Performed</th>\n",
       "      <th>Cumulative Number of Tests Performed</th>\n",
       "      <th>Income_Ctg</th>\n",
       "      <th>NatLogDiff</th>\n",
       "      <th>proportion cases</th>\n",
       "      <th>proportion_cases</th>\n",
       "      <th>log_proportion</th>\n",
       "      <th>dt_test_date</th>\n",
       "      <th>After Order</th>\n",
       "      <th>Pre Trend</th>\n",
       "      <th>Pre_Trend</th>\n",
       "      <th>After_Order</th>\n",
       "      <th>Interaction_Term</th>\n",
       "    </tr>\n",
       "  </thead>\n",
       "  <tbody>\n",
       "    <tr>\n",
       "      <th>2920</th>\n",
       "      <td>36081</td>\n",
       "      <td>68432.0</td>\n",
       "      <td>NaN</td>\n",
       "      <td>05/13/2020</td>\n",
       "      <td>336.0</td>\n",
       "      <td>58084.0</td>\n",
       "      <td>4439.0</td>\n",
       "      <td>171836.0</td>\n",
       "      <td>3</td>\n",
       "      <td>inf</td>\n",
       "      <td>0.075693</td>\n",
       "      <td>0.075693</td>\n",
       "      <td>-2.581073</td>\n",
       "      <td>2020-05-13</td>\n",
       "      <td>1</td>\n",
       "      <td>72</td>\n",
       "      <td>72</td>\n",
       "      <td>1</td>\n",
       "      <td>72</td>\n",
       "    </tr>\n",
       "    <tr>\n",
       "      <th>4162</th>\n",
       "      <td>36115</td>\n",
       "      <td>55913.0</td>\n",
       "      <td>2.108902e+09</td>\n",
       "      <td>05/13/2020</td>\n",
       "      <td>1.0</td>\n",
       "      <td>215.0</td>\n",
       "      <td>77.0</td>\n",
       "      <td>1775.0</td>\n",
       "      <td>2</td>\n",
       "      <td>inf</td>\n",
       "      <td>0.012987</td>\n",
       "      <td>0.012987</td>\n",
       "      <td>-4.343805</td>\n",
       "      <td>2020-05-13</td>\n",
       "      <td>1</td>\n",
       "      <td>72</td>\n",
       "      <td>72</td>\n",
       "      <td>1</td>\n",
       "      <td>72</td>\n",
       "    </tr>\n",
       "    <tr>\n",
       "      <th>3139</th>\n",
       "      <td>36087</td>\n",
       "      <td>88960.0</td>\n",
       "      <td>2.227306e+09</td>\n",
       "      <td>05/13/2020</td>\n",
       "      <td>53.0</td>\n",
       "      <td>12596.0</td>\n",
       "      <td>1096.0</td>\n",
       "      <td>39615.0</td>\n",
       "      <td>3</td>\n",
       "      <td>inf</td>\n",
       "      <td>0.048358</td>\n",
       "      <td>0.048358</td>\n",
       "      <td>-3.029131</td>\n",
       "      <td>2020-05-13</td>\n",
       "      <td>1</td>\n",
       "      <td>72</td>\n",
       "      <td>72</td>\n",
       "      <td>1</td>\n",
       "      <td>72</td>\n",
       "    </tr>\n",
       "    <tr>\n",
       "      <th>4235</th>\n",
       "      <td>36117</td>\n",
       "      <td>61118.0</td>\n",
       "      <td>3.680914e+08</td>\n",
       "      <td>05/13/2020</td>\n",
       "      <td>5.0</td>\n",
       "      <td>89.0</td>\n",
       "      <td>120.0</td>\n",
       "      <td>2447.0</td>\n",
       "      <td>2</td>\n",
       "      <td>inf</td>\n",
       "      <td>0.041667</td>\n",
       "      <td>0.041667</td>\n",
       "      <td>-3.178054</td>\n",
       "      <td>2020-05-13</td>\n",
       "      <td>1</td>\n",
       "      <td>72</td>\n",
       "      <td>72</td>\n",
       "      <td>1</td>\n",
       "      <td>72</td>\n",
       "    </tr>\n",
       "    <tr>\n",
       "      <th>0</th>\n",
       "      <td>36001</td>\n",
       "      <td>64536.0</td>\n",
       "      <td>7.100041e+09</td>\n",
       "      <td>05/13/2020</td>\n",
       "      <td>15.0</td>\n",
       "      <td>1509.0</td>\n",
       "      <td>546.0</td>\n",
       "      <td>15792.0</td>\n",
       "      <td>3</td>\n",
       "      <td>0.0</td>\n",
       "      <td>0.027473</td>\n",
       "      <td>0.027473</td>\n",
       "      <td>-3.594569</td>\n",
       "      <td>2020-05-13</td>\n",
       "      <td>1</td>\n",
       "      <td>72</td>\n",
       "      <td>72</td>\n",
       "      <td>1</td>\n",
       "      <td>72</td>\n",
       "    </tr>\n",
       "  </tbody>\n",
       "</table>\n",
       "</div>"
      ],
      "text/plain": [
       "       FIPS  Median_Household_Income_2018  ...  After_Order Interaction_Term\n",
       "2920  36081                       68432.0  ...            1               72\n",
       "4162  36115                       55913.0  ...            1               72\n",
       "3139  36087                       88960.0  ...            1               72\n",
       "4235  36117                       61118.0  ...            1               72\n",
       "0     36001                       64536.0  ...            1               72\n",
       "\n",
       "[5 rows x 19 columns]"
      ]
     },
     "execution_count": 122,
     "metadata": {
      "tags": []
     },
     "output_type": "execute_result"
    }
   ],
   "source": [
    "df[\"Interaction_Term\"] = df[\"After_Order\"] * df[\"Pre_Trend\"]\n",
    "df.tail()"
   ]
  },
  {
   "cell_type": "code",
   "execution_count": 0,
   "metadata": {
    "colab": {},
    "colab_type": "code",
    "id": "-d9EhX8OKtRK"
   },
   "outputs": [],
   "source": [
    "def run_model(df):\n",
    "  md = smf.mixedlm(\"NatLogDiff  ~ After_Order + Pre_Trend + Interaction_Term\", df, groups=df[\"FIPS\"])\n",
    "  mdf = md.fit()\n",
    "  print(mdf.summary())\n",
    "\n",
    "\n",
    "for i in range(3):\n",
    "  model_df = df.loc[df['Income_Ctg'] == i+1]\n",
    "  run_model(model_df)"
   ]
  },
  {
   "cell_type": "code",
   "execution_count": 0,
   "metadata": {
    "colab": {},
    "colab_type": "code",
    "id": "L0i-PwZcGmac"
   },
   "outputs": [],
   "source": [
    "import numpy as np\n",
    "def get_outcome(df):\n",
    "  outcome = []\n",
    "  for i in df['dt_test_date'].unique():\n",
    "    temp_df = df.loc[df['dt_test_date'] == i]\n",
    "    outcome.append(np.mean(temp_df[\"NatLogDiff\"]))\n",
    "  return outcome\n",
    "\n",
    "\n",
    "temp_df1 = df.loc[df['Income_Ctg'] == 1]\n",
    "outcome1 = get_outcome(temp_df1)\n",
    "print(outcome1)\n",
    "temp_df2 = df.loc[df['Income_Ctg'] == 2]\n",
    "outcome2 = get_outcome(temp_df2)\n",
    "print(outcome2)\n",
    "temp_df3 = df.loc[df['Income_Ctg'] == 3]\n",
    "outcome3 = get_outcome(temp_df3)\n",
    "print(outcome3)\n",
    "print(len(outcome1), len(outcome2), len(outcome3), len(df['dt_test_date'].unique()))\n",
    "\n",
    "plt.bar(temp_df1['dt_test_date'].unique(), outcome1, color='b', alpha=0.9, label='low income')\n",
    "plt.bar(temp_df2['dt_test_date'].unique(), outcome2, color='r', alpha=0.9, label='med income')\n",
    "plt.bar(temp_df3['dt_test_date'].unique(), outcome3, color='g', alpha=0.9, label='high income')\n",
    "plt.legend()\n",
    "plt.ylim([0,2])\n",
    "plt.ylabel('Natural Log Difference in Cases Relative to Previous Day')\n",
    "plt.xlabel('Date')"
   ]
  },
  {
   "cell_type": "code",
   "execution_count": 0,
   "metadata": {
    "colab": {},
    "colab_type": "code",
    "id": "EDfBbfh6btSX"
   },
   "outputs": [],
   "source": [
    "import matplotlib.pyplot as plt\n",
    "trimmed_df = df.loc[df['dt_test_date'] == '2020-04-09']\n",
    "print(len(trimmed_df))\n",
    "trimmed_df = trimmed_df.sort_values(by=['Median_Household_Income_2018'])\n",
    "trimmed_df.plot(kind='bar',x='Median_Household_Income_2018',y='Cumulative Number of Positives',color='red')\n",
    "# plt.plot(trimmed_df[\"Median_Household_Income_2018\"], trimmed_df[\"Cumulative Number of Positives\"])"
   ]
  },
  {
   "cell_type": "code",
   "execution_count": 0,
   "metadata": {
    "colab": {},
    "colab_type": "code",
    "id": "5lyN9lMpLBzT"
   },
   "outputs": [],
   "source": [
    "#try re-doing time series graph after restricting to highest density counties\n"
   ]
  },
  {
   "cell_type": "code",
   "execution_count": 0,
   "metadata": {
    "colab": {},
    "colab_type": "code",
    "id": "JBSu9F6kMskz"
   },
   "outputs": [],
   "source": [
    "df.head()"
   ]
  },
  {
   "cell_type": "code",
   "execution_count": 0,
   "metadata": {
    "colab": {},
    "colab_type": "code",
    "id": "KdtzlI1ixAi5"
   },
   "outputs": [],
   "source": [
    "#descriptive stats of new outcome \n",
    "df[['NatLogDiff']].describe()"
   ]
  },
  {
   "cell_type": "code",
   "execution_count": 0,
   "metadata": {
    "colab": {},
    "colab_type": "code",
    "id": "CEWT5rt1zMNM"
   },
   "outputs": [],
   "source": [
    "#histogram\n",
    "plt.hist(df[\"NatLogDiff\"])"
   ]
  },
  {
   "cell_type": "code",
   "execution_count": 0,
   "metadata": {
    "colab": {},
    "colab_type": "code",
    "id": "DncFUyiLxjvm"
   },
   "outputs": [],
   "source": [
    "#mean of new outcome stratified by income categories\n",
    "average_outcome_income = df.groupby(['income var'])['outcome'].mean()"
   ]
  }
 ],
 "metadata": {
  "colab": {
   "collapsed_sections": [
    "4X5fLkE8CHaC",
    "uhgFUWAtG3Db",
    "9rOH8IRTG84v"
   ],
   "name": "final.ipynb",
   "provenance": []
  },
  "kernelspec": {
   "display_name": "Python 3",
   "language": "python",
   "name": "python3"
  },
  "language_info": {
   "codemirror_mode": {
    "name": "ipython",
    "version": 3
   },
   "file_extension": ".py",
   "mimetype": "text/x-python",
   "name": "python",
   "nbconvert_exporter": "python",
   "pygments_lexer": "ipython3",
   "version": "3.7.4"
  }
 },
 "nbformat": 4,
 "nbformat_minor": 1
}
