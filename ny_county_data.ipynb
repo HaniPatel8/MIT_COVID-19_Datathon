{
 "cells": [
  {
   "cell_type": "code",
   "execution_count": 2,
   "metadata": {},
   "outputs": [],
   "source": [
    "import pandas as pd"
   ]
  },
  {
   "cell_type": "code",
   "execution_count": 9,
   "metadata": {},
   "outputs": [],
   "source": [
    "ny_data = pd.read_csv(\"./New_York_State_Statewide_COVID-19_Testing.csv\")\n",
    "county_codes = pd.read_csv(\"./NY_Municipalities_and_County_FIPS_codes.csv\")\n",
    "county_data = pd.read_csv(\"https://raw.githubusercontent.com/JieYingWu/COVID-19_US_County-level_Summaries/master/data/counties.csv\")"
   ]
  },
  {
   "cell_type": "code",
   "execution_count": 10,
   "metadata": {},
   "outputs": [],
   "source": [
    "#fixing name error\n",
    "county_codes.replace(\"St Lawrence\",\"St. Lawrence\",inplace=True)"
   ]
  },
  {
   "cell_type": "code",
   "execution_count": 11,
   "metadata": {
    "scrolled": true
   },
   "outputs": [],
   "source": [
    "#joining infection data with county code data\n",
    "ny_data_fips = ny_data.set_index(\"County\").join(county_codes.set_index(\"County Name\")).astype({'County FIPS': 'int32'})"
   ]
  },
  {
   "cell_type": "code",
   "execution_count": 12,
   "metadata": {},
   "outputs": [],
   "source": [
    "#setting columns we will use for SES and infection related variables\n",
    "relevant_ses_columns = [\"Median_Household_Income_2018\",\"transit_scores - population weighted averages aggregated from town/city level to county\"]\n",
    "relevant_infection_columns = ['Test Date','New Positives','Cumulative Number of Positives','Total Number of Tests Performed','Cumulative Number of Tests Performed',]"
   ]
  },
  {
   "cell_type": "code",
   "execution_count": 13,
   "metadata": {},
   "outputs": [],
   "source": [
    "#data for testing is divided into municipalities for each county - we are aggregating it into county level data\n",
    "grouped_county_inf = ny_data_fips.groupby(['County FIPS','Test Date'])[relevant_infection_columns].sum().reset_index()"
   ]
  },
  {
   "cell_type": "code",
   "execution_count": 14,
   "metadata": {},
   "outputs": [],
   "source": [
    "#joining infection and SES data\n",
    "ses_and_infection = county_data[county_data['State']=='NY'].set_index('FIPS').join(grouped_county_inf.set_index('County FIPS'))"
   ]
  },
  {
   "cell_type": "code",
   "execution_count": 15,
   "metadata": {},
   "outputs": [],
   "source": [
    "#selecting relevant columns\n",
    "ses_and_infection = ses_and_infection[relevant_ses_columns+relevant_infection_columns].drop(36000)"
   ]
  },
  {
   "cell_type": "code",
   "execution_count": 16,
   "metadata": {},
   "outputs": [],
   "source": [
    "#resetting index to create county FIPS column\n",
    "ses_and_infection = ses_and_infection.reset_index().rename(columns={'index':'FIPS'})"
   ]
  },
  {
   "cell_type": "code",
   "execution_count": 17,
   "metadata": {},
   "outputs": [],
   "source": [
    "#creating binary column that denotes whether test date is before or after stay at home order: 1 = After\n",
    "ses_and_infection['Test Date'] = pd.to_datetime(ses_and_infection['Test Date'])\n",
    "ses_and_infection['After Order'] = ses_and_infection['Test Date'].apply(lambda x: int(x > pd.to_datetime('03/22/2020')))"
   ]
  },
  {
   "cell_type": "code",
   "execution_count": 18,
   "metadata": {},
   "outputs": [],
   "source": [
    "#saving to df\n",
    "ses_and_infection.to_csv(\"./ny_county_data/ny_county_data.csv\")"
   ]
  }
 ],
 "metadata": {
  "kernelspec": {
   "display_name": "Python 3",
   "language": "python",
   "name": "python3"
  },
  "language_info": {
   "codemirror_mode": {
    "name": "ipython",
    "version": 3
   },
   "file_extension": ".py",
   "mimetype": "text/x-python",
   "name": "python",
   "nbconvert_exporter": "python",
   "pygments_lexer": "ipython3",
   "version": "3.7.4-final"
  }
 },
 "nbformat": 4,
 "nbformat_minor": 2
}