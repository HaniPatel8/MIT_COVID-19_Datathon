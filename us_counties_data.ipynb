{
 "cells": [
  {
   "cell_type": "code",
   "execution_count": 9,
   "metadata": {
    "ExecuteTime": {
     "end_time": "2020-05-14T20:11:58.973893Z",
     "start_time": "2020-05-14T20:11:49.163733Z"
    }
   },
   "outputs": [],
   "source": [
    "import pandas as pd\n",
    "\n",
    "#reading in relevant csv files\n",
    "county_data = pd.read_csv(\"https://raw.githubusercontent.com/JieYingWu/COVID-19_US_County-level_Summaries/master/data/counties.csv\")\n",
    "infections_data = pd.read_csv(\"https://raw.githubusercontent.com/JieYingWu/COVID-19_US_County-level_Summaries/master/data/infections_timeseries.csv\")\n",
    "\n",
    "#list of states with state-wide lockdown (as seen on https://www.businessinsider.com/us-map-stay-at-home-orders-lockdowns-2020-3)\n",
    "state_wide = ['CA','WA','OR','NV','NM','MN','WI','MI','KY','LA','VA','MD','VT','NH','NJ','MA','NY','CT','DE','DC','PR']\n",
    "#dates of implementation\n",
    "dates = ['031920','032320','032320','040120','032420','032520','032520','032420','032620','032020','032520','033020','032520','032720','032120','032320','032220','032320','032420','032720',\n",
    "         '033020']\n",
    "\n",
    "#conversion to datetime format\n",
    "dates = [pd.to_datetime(x,infer_datetime_format=True).date() for x in dates]\n",
    "\n",
    "#dict mapping state to date of stay-at-home order\n",
    "state_date = dict(list(zip(state_wide,dates)))\n",
    "\n",
    "\n",
    "#relevant county-level socioeconomic and transit data columns\n",
    "columns = [\"State\",\"Median_Household_Income_2018\",\"transit_scores - population weighted averages aggregated from town/city level to county\"]\n",
    "\n",
    "\n",
    "#selecting counties from states with state-wide lockdown\n",
    "infections_data = infections_data[infections_data['FIPS'].isin(county_data['FIPS'])]\n",
    "\n",
    "#collecting available dates for infection data\n",
    "datecols_str = infections_data.drop(['FIPS','Combined_Key'],axis=1).columns\n",
    "datecols = [pd.to_datetime(x,infer_datetime_format=True).date() for x in datecols_str]\n",
    "\n",
    "#gets x dates before and after a given intervention\n",
    "def get_dates(available_dates, intervention_date, number):\n",
    "    before_dates = list(filter(lambda x:x<intervention_date, available_dates))\n",
    "    after_dates = list(filter(lambda x:x>intervention_date, available_dates))\n",
    "    return before_dates[-number:], after_dates[:number]\n",
    "\n",
    "#converts a list of dates to a list of strings\n",
    "def date_to_str(datelist):\n",
    "    return [x.strftime(\"%-m/%-d/%y\") for x in datelist]\n",
    "\n",
    "#gets SES columns and infection observations if given state and number of dates required\n",
    "def ses_and_infection(state, number, ses_columns):\n",
    "    #getting x dates before and after stay at home order date\n",
    "    before_dates_state, after_dates_state = get_dates(datecols, state_date[state], number)\n",
    "    \n",
    "    #converting dates to str type\n",
    "    before_dates_str = date_to_str(before_dates_state)\n",
    "    after_dates_str = date_to_str(after_dates_state)\n",
    "    \n",
    "    #getting infection data for those dates\n",
    "    infections_state = infections_data[['FIPS']+before_dates_str+after_dates_str].set_index('FIPS')\n",
    "    \n",
    "    #getting ses data for the state\n",
    "    ses_state = county_data[county_data['State']==state].set_index('FIPS')[ses_columns]\n",
    "    \n",
    "    return ses_state.join(infections_state)\n",
    "\n",
    "for state in state_wide:\n",
    "    state_df = ses_and_infection(state,20,columns)\n",
    "    state_df.to_csv(\"./county_level_data/\"+str(state)+\".csv\")"
   ]
  },
  {
   "cell_type": "code",
   "execution_count": null,
   "metadata": {},
   "outputs": [],
   "source": []
  }
 ],
 "metadata": {
  "kernelspec": {
   "display_name": "Python 3",
   "language": "python",
   "name": "python3"
  },
  "language_info": {
   "codemirror_mode": {
    "name": "ipython",
    "version": 3
   },
   "file_extension": ".py",
   "mimetype": "text/x-python",
   "name": "python",
   "nbconvert_exporter": "python",
   "pygments_lexer": "ipython3",
   "version": "3.6.6"
  },
  "toc": {
   "base_numbering": 1,
   "nav_menu": {},
   "number_sections": true,
   "sideBar": true,
   "skip_h1_title": false,
   "title_cell": "Table of Contents",
   "title_sidebar": "Contents",
   "toc_cell": false,
   "toc_position": {},
   "toc_section_display": true,
   "toc_window_display": false
  },
  "varInspector": {
   "cols": {
    "lenName": 16,
    "lenType": 16,
    "lenVar": 40
   },
   "kernels_config": {
    "python": {
     "delete_cmd_postfix": "",
     "delete_cmd_prefix": "del ",
     "library": "var_list.py",
     "varRefreshCmd": "print(var_dic_list())"
    },
    "r": {
     "delete_cmd_postfix": ") ",
     "delete_cmd_prefix": "rm(",
     "library": "var_list.r",
     "varRefreshCmd": "cat(var_dic_list()) "
    }
   },
   "types_to_exclude": [
    "module",
    "function",
    "builtin_function_or_method",
    "instance",
    "_Feature"
   ],
   "window_display": false
  }
 },
 "nbformat": 4,
 "nbformat_minor": 2
}
