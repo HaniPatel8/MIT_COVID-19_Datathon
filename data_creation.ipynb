{
 "cells": [
  {
   "cell_type": "markdown",
   "metadata": {},
   "source": [
    "# Data Creation Process"
   ]
  },
  {
   "cell_type": "code",
   "execution_count": 1,
   "metadata": {},
   "outputs": [],
   "source": [
    "# import requirements\n",
    "import pandas as pd\n",
    "import numpy as np"
   ]
  },
  {
   "cell_type": "markdown",
   "metadata": {},
   "source": [
    "## Sources\n",
    "\n",
    "[NY County Level Test Data](https://health.data.ny.gov/Health/New-York-State-Statewide-COVID-19-Testing/xdss-u53e/data)\n",
    "\n",
    "[County Level Economic Variables](https://raw.githubusercontent.com/JieYingWu/COVID-19_US_County-level_Summaries/master/data/counties.csv)\n",
    "\n",
    "[NY Municipality Codes](https://data.ny.gov/Government-Finance/NY-Municipalities-and-County-FIPS-codes/79vr-2kdi)\n"
   ]
  },
  {
   "cell_type": "code",
   "execution_count": 2,
   "metadata": {},
   "outputs": [],
   "source": [
    "ny_data = pd.read_csv(\"./raw_data/New_York_State_Statewide_COVID-19_Testing.csv\")\n",
    "county_codes = pd.read_csv(\"./raw_data/NY_Municipalities_and_County_FIPS_codes.csv\")\n",
    "county_data = pd.read_csv(\"https://raw.githubusercontent.com/JieYingWu/COVID-19_US_County-level_Summaries/master/data/counties.csv\")"
   ]
  },
  {
   "cell_type": "markdown",
   "metadata": {},
   "source": [
    "## Creating County Level Testing and Economic Data "
   ]
  },
  {
   "cell_type": "code",
   "execution_count": 3,
   "metadata": {
    "scrolled": true
   },
   "outputs": [
    {
     "data": {
      "text/html": [
       "<div>\n",
       "<style scoped>\n",
       "    .dataframe tbody tr th:only-of-type {\n",
       "        vertical-align: middle;\n",
       "    }\n",
       "\n",
       "    .dataframe tbody tr th {\n",
       "        vertical-align: top;\n",
       "    }\n",
       "\n",
       "    .dataframe thead th {\n",
       "        text-align: right;\n",
       "    }\n",
       "</style>\n",
       "<table border=\"1\" class=\"dataframe\">\n",
       "  <thead>\n",
       "    <tr style=\"text-align: right;\">\n",
       "      <th></th>\n",
       "      <th>Test Date</th>\n",
       "      <th>County</th>\n",
       "      <th>New Positives</th>\n",
       "      <th>Cumulative Number of Positives</th>\n",
       "      <th>Total Number of Tests Performed</th>\n",
       "      <th>Cumulative Number of Tests Performed</th>\n",
       "    </tr>\n",
       "  </thead>\n",
       "  <tbody>\n",
       "    <tr>\n",
       "      <td>0</td>\n",
       "      <td>05/13/2020</td>\n",
       "      <td>Albany</td>\n",
       "      <td>15</td>\n",
       "      <td>1509</td>\n",
       "      <td>546</td>\n",
       "      <td>15792</td>\n",
       "    </tr>\n",
       "    <tr>\n",
       "      <td>1</td>\n",
       "      <td>05/13/2020</td>\n",
       "      <td>Allegany</td>\n",
       "      <td>0</td>\n",
       "      <td>44</td>\n",
       "      <td>53</td>\n",
       "      <td>938</td>\n",
       "    </tr>\n",
       "    <tr>\n",
       "      <td>2</td>\n",
       "      <td>05/13/2020</td>\n",
       "      <td>Bronx</td>\n",
       "      <td>303</td>\n",
       "      <td>41980</td>\n",
       "      <td>3338</td>\n",
       "      <td>127471</td>\n",
       "    </tr>\n",
       "    <tr>\n",
       "      <td>3</td>\n",
       "      <td>05/13/2020</td>\n",
       "      <td>Broome</td>\n",
       "      <td>1</td>\n",
       "      <td>383</td>\n",
       "      <td>343</td>\n",
       "      <td>6146</td>\n",
       "    </tr>\n",
       "    <tr>\n",
       "      <td>4</td>\n",
       "      <td>05/13/2020</td>\n",
       "      <td>Cattaraugus</td>\n",
       "      <td>3</td>\n",
       "      <td>64</td>\n",
       "      <td>134</td>\n",
       "      <td>1708</td>\n",
       "    </tr>\n",
       "  </tbody>\n",
       "</table>\n",
       "</div>"
      ],
      "text/plain": [
       "    Test Date       County  New Positives  Cumulative Number of Positives  \\\n",
       "0  05/13/2020       Albany             15                            1509   \n",
       "1  05/13/2020     Allegany              0                              44   \n",
       "2  05/13/2020        Bronx            303                           41980   \n",
       "3  05/13/2020       Broome              1                             383   \n",
       "4  05/13/2020  Cattaraugus              3                              64   \n",
       "\n",
       "   Total Number of Tests Performed  Cumulative Number of Tests Performed  \n",
       "0                              546                                 15792  \n",
       "1                               53                                   938  \n",
       "2                             3338                                127471  \n",
       "3                              343                                  6146  \n",
       "4                              134                                  1708  "
      ]
     },
     "execution_count": 3,
     "metadata": {},
     "output_type": "execute_result"
    }
   ],
   "source": [
    "ny_data.head()"
   ]
  },
  {
   "cell_type": "markdown",
   "metadata": {},
   "source": [
    "#### To avoid problems due to differences in how the county names are written, we want to use FIPS (county code) to identify counties. Since the NY site does not have the county codes, we will use a dataset that maps  county names to FIPS and join the two datasets."
   ]
  },
  {
   "cell_type": "code",
   "execution_count": 4,
   "metadata": {},
   "outputs": [],
   "source": [
    "#correcting a naming difference between the datasets\n",
    "county_codes.replace(\"St Lawrence\",\"St. Lawrence\",inplace=True)"
   ]
  },
  {
   "cell_type": "code",
   "execution_count": 5,
   "metadata": {},
   "outputs": [],
   "source": [
    "county_code_df = county_codes.groupby(['County Name','County FIPS']).size().reset_index().drop(0,axis=1)"
   ]
  },
  {
   "cell_type": "code",
   "execution_count": 6,
   "metadata": {},
   "outputs": [],
   "source": [
    "#joining ny data w codes data to get FIPS info\n",
    "ny_data_fips = ny_data.set_index(\"County\").join(county_code_df.set_index(\"County Name\")).astype({'County FIPS': 'int32'})"
   ]
  },
  {
   "cell_type": "markdown",
   "metadata": {},
   "source": [
    "#### Collecting a list of columns that have the relevant infection and socioeconomic data we want to explore"
   ]
  },
  {
   "cell_type": "code",
   "execution_count": 7,
   "metadata": {},
   "outputs": [],
   "source": [
    "relevant_ses_columns = [\"Median_Household_Income_2018\",\\\n",
    "                        \"transit_scores - population weighted averages aggregated from town/city level to county\"]\n",
    "relevant_infection_columns = ['Test Date','New Positives',\\\n",
    "                              'Cumulative Number of Positives',\\\n",
    "                              'Total Number of Tests Performed','Cumulative Number of Tests Performed',]"
   ]
  },
  {
   "cell_type": "markdown",
   "metadata": {},
   "source": [
    "#### Joining testing data with socioeconomic data"
   ]
  },
  {
   "cell_type": "code",
   "execution_count": 23,
   "metadata": {},
   "outputs": [],
   "source": [
    "#joining infection w socioeconomic\n",
    "joined_df = county_data[county_data['State']=='NY'\\\n",
    "                               ].set_index('FIPS').join(ny_data_fips.set_index('County FIPS'))\n",
    "#dropping null column\n",
    "joined_df = joined_df[relevant_ses_columns\\\n",
    "                                      +relevant_infection_columns].drop(36000)"
   ]
  },
  {
   "cell_type": "code",
   "execution_count": 24,
   "metadata": {},
   "outputs": [],
   "source": [
    "#doing some clean up\n",
    "joined_df = joined_df.reset_index().rename(columns={'index':'FIPS'})\n",
    "joined_df['Test Date'] = pd.to_datetime(joined_df['Test Date'])"
   ]
  },
  {
   "cell_type": "code",
   "execution_count": 25,
   "metadata": {},
   "outputs": [
    {
     "data": {
      "text/html": [
       "<div>\n",
       "<style scoped>\n",
       "    .dataframe tbody tr th:only-of-type {\n",
       "        vertical-align: middle;\n",
       "    }\n",
       "\n",
       "    .dataframe tbody tr th {\n",
       "        vertical-align: top;\n",
       "    }\n",
       "\n",
       "    .dataframe thead th {\n",
       "        text-align: right;\n",
       "    }\n",
       "</style>\n",
       "<table border=\"1\" class=\"dataframe\">\n",
       "  <thead>\n",
       "    <tr style=\"text-align: right;\">\n",
       "      <th></th>\n",
       "      <th>FIPS</th>\n",
       "      <th>Median_Household_Income_2018</th>\n",
       "      <th>transit_scores - population weighted averages aggregated from town/city level to county</th>\n",
       "      <th>Test Date</th>\n",
       "      <th>New Positives</th>\n",
       "      <th>Cumulative Number of Positives</th>\n",
       "      <th>Total Number of Tests Performed</th>\n",
       "      <th>Cumulative Number of Tests Performed</th>\n",
       "    </tr>\n",
       "  </thead>\n",
       "  <tbody>\n",
       "    <tr>\n",
       "      <td>0</td>\n",
       "      <td>36001</td>\n",
       "      <td>64536.0</td>\n",
       "      <td>7.100041e+09</td>\n",
       "      <td>2020-05-13</td>\n",
       "      <td>15.0</td>\n",
       "      <td>1509.0</td>\n",
       "      <td>546.0</td>\n",
       "      <td>15792.0</td>\n",
       "    </tr>\n",
       "    <tr>\n",
       "      <td>1</td>\n",
       "      <td>36001</td>\n",
       "      <td>64536.0</td>\n",
       "      <td>7.100041e+09</td>\n",
       "      <td>2020-05-12</td>\n",
       "      <td>15.0</td>\n",
       "      <td>1494.0</td>\n",
       "      <td>335.0</td>\n",
       "      <td>15246.0</td>\n",
       "    </tr>\n",
       "    <tr>\n",
       "      <td>2</td>\n",
       "      <td>36001</td>\n",
       "      <td>64536.0</td>\n",
       "      <td>7.100041e+09</td>\n",
       "      <td>2020-05-11</td>\n",
       "      <td>23.0</td>\n",
       "      <td>1479.0</td>\n",
       "      <td>341.0</td>\n",
       "      <td>14911.0</td>\n",
       "    </tr>\n",
       "    <tr>\n",
       "      <td>3</td>\n",
       "      <td>36001</td>\n",
       "      <td>64536.0</td>\n",
       "      <td>7.100041e+09</td>\n",
       "      <td>2020-05-10</td>\n",
       "      <td>24.0</td>\n",
       "      <td>1456.0</td>\n",
       "      <td>384.0</td>\n",
       "      <td>14570.0</td>\n",
       "    </tr>\n",
       "    <tr>\n",
       "      <td>4</td>\n",
       "      <td>36001</td>\n",
       "      <td>64536.0</td>\n",
       "      <td>7.100041e+09</td>\n",
       "      <td>2020-05-09</td>\n",
       "      <td>16.0</td>\n",
       "      <td>1432.0</td>\n",
       "      <td>455.0</td>\n",
       "      <td>14186.0</td>\n",
       "    </tr>\n",
       "  </tbody>\n",
       "</table>\n",
       "</div>"
      ],
      "text/plain": [
       "    FIPS  Median_Household_Income_2018  \\\n",
       "0  36001                       64536.0   \n",
       "1  36001                       64536.0   \n",
       "2  36001                       64536.0   \n",
       "3  36001                       64536.0   \n",
       "4  36001                       64536.0   \n",
       "\n",
       "   transit_scores - population weighted averages aggregated from town/city level to county  \\\n",
       "0                                       7.100041e+09                                         \n",
       "1                                       7.100041e+09                                         \n",
       "2                                       7.100041e+09                                         \n",
       "3                                       7.100041e+09                                         \n",
       "4                                       7.100041e+09                                         \n",
       "\n",
       "   Test Date  New Positives  Cumulative Number of Positives  \\\n",
       "0 2020-05-13           15.0                          1509.0   \n",
       "1 2020-05-12           15.0                          1494.0   \n",
       "2 2020-05-11           23.0                          1479.0   \n",
       "3 2020-05-10           24.0                          1456.0   \n",
       "4 2020-05-09           16.0                          1432.0   \n",
       "\n",
       "   Total Number of Tests Performed  Cumulative Number of Tests Performed  \n",
       "0                            546.0                               15792.0  \n",
       "1                            335.0                               15246.0  \n",
       "2                            341.0                               14911.0  \n",
       "3                            384.0                               14570.0  \n",
       "4                            455.0                               14186.0  "
      ]
     },
     "execution_count": 25,
     "metadata": {},
     "output_type": "execute_result"
    }
   ],
   "source": [
    "joined_df.head()"
   ]
  },
  {
   "cell_type": "code",
   "execution_count": 31,
   "metadata": {},
   "outputs": [],
   "source": [
    "joined_df.to_csv(\"./ny_county_data/ny_county_data.csv\")"
   ]
  }
 ],
 "metadata": {
  "kernelspec": {
   "display_name": "Python 3",
   "language": "python",
   "name": "python3"
  },
  "language_info": {
   "codemirror_mode": {
    "name": "ipython",
    "version": 3
   },
   "file_extension": ".py",
   "mimetype": "text/x-python",
   "name": "python",
   "nbconvert_exporter": "python",
   "pygments_lexer": "ipython3",
   "version": "3.7.4"
  }
 },
 "nbformat": 4,
 "nbformat_minor": 2
}
