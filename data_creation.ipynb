{
 "cells": [
  {
   "cell_type": "markdown",
   "metadata": {},
   "source": [
    "# Data Creation Process"
   ]
  },
  {
   "cell_type": "code",
   "execution_count": 35,
   "metadata": {},
   "outputs": [],
   "source": [
    "# import requirements\n",
    "import pandas as pd\n",
    "import numpy as np"
   ]
  },
  {
   "cell_type": "markdown",
   "metadata": {},
   "source": [
    "## Sources\n",
    "\n",
    "[NY County Level Test Data](https://health.data.ny.gov/Health/New-York-State-Statewide-COVID-19-Testing/xdss-u53e/data)\n",
    "\n",
    "[County Level Economic Variables](https://raw.githubusercontent.com/JieYingWu/COVID-19_US_County-level_Summaries/master/data/counties.csv)\n",
    "\n",
    "[NY Municipality Codes](https://data.ny.gov/Government-Finance/NY-Municipalities-and-County-FIPS-codes/79vr-2kdi)\n"
   ]
  },
  {
   "cell_type": "code",
   "execution_count": 36,
   "metadata": {},
   "outputs": [],
   "source": [
    "ny_data = pd.read_csv(\"./raw_data/New_York_State_Statewide_COVID-19_Testing.csv\")\n",
    "county_codes = pd.read_csv(\"./raw_data/NY_Municipalities_and_County_FIPS_codes.csv\")\n",
    "county_data = pd.read_csv(\"https://raw.githubusercontent.com/JieYingWu/COVID-19_US_County-level_Summaries/master/data/counties.csv\")"
   ]
  },
  {
   "cell_type": "markdown",
   "metadata": {},
   "source": [
    "## Creating County Level Testing and Economic Data "
   ]
  },
  {
   "cell_type": "code",
   "execution_count": 37,
   "metadata": {
    "scrolled": false
   },
   "outputs": [
    {
     "data": {
      "text/html": [
       "<div>\n",
       "<style scoped>\n",
       "    .dataframe tbody tr th:only-of-type {\n",
       "        vertical-align: middle;\n",
       "    }\n",
       "\n",
       "    .dataframe tbody tr th {\n",
       "        vertical-align: top;\n",
       "    }\n",
       "\n",
       "    .dataframe thead th {\n",
       "        text-align: right;\n",
       "    }\n",
       "</style>\n",
       "<table border=\"1\" class=\"dataframe\">\n",
       "  <thead>\n",
       "    <tr style=\"text-align: right;\">\n",
       "      <th></th>\n",
       "      <th>Test Date</th>\n",
       "      <th>County</th>\n",
       "      <th>New Positives</th>\n",
       "      <th>Cumulative Number of Positives</th>\n",
       "      <th>Total Number of Tests Performed</th>\n",
       "      <th>Cumulative Number of Tests Performed</th>\n",
       "    </tr>\n",
       "  </thead>\n",
       "  <tbody>\n",
       "    <tr>\n",
       "      <td>0</td>\n",
       "      <td>06/07/2020</td>\n",
       "      <td>Albany</td>\n",
       "      <td>17</td>\n",
       "      <td>1978</td>\n",
       "      <td>1194</td>\n",
       "      <td>32194</td>\n",
       "    </tr>\n",
       "    <tr>\n",
       "      <td>1</td>\n",
       "      <td>06/07/2020</td>\n",
       "      <td>Allegany</td>\n",
       "      <td>0</td>\n",
       "      <td>51</td>\n",
       "      <td>149</td>\n",
       "      <td>3117</td>\n",
       "    </tr>\n",
       "    <tr>\n",
       "      <td>2</td>\n",
       "      <td>06/07/2020</td>\n",
       "      <td>Bronx</td>\n",
       "      <td>72</td>\n",
       "      <td>46052</td>\n",
       "      <td>3718</td>\n",
       "      <td>222329</td>\n",
       "    </tr>\n",
       "    <tr>\n",
       "      <td>3</td>\n",
       "      <td>06/07/2020</td>\n",
       "      <td>Broome</td>\n",
       "      <td>4</td>\n",
       "      <td>624</td>\n",
       "      <td>745</td>\n",
       "      <td>22789</td>\n",
       "    </tr>\n",
       "    <tr>\n",
       "      <td>4</td>\n",
       "      <td>06/07/2020</td>\n",
       "      <td>Cattaraugus</td>\n",
       "      <td>1</td>\n",
       "      <td>95</td>\n",
       "      <td>245</td>\n",
       "      <td>7036</td>\n",
       "    </tr>\n",
       "  </tbody>\n",
       "</table>\n",
       "</div>"
      ],
      "text/plain": [
       "    Test Date       County  New Positives  Cumulative Number of Positives  \\\n",
       "0  06/07/2020       Albany             17                            1978   \n",
       "1  06/07/2020     Allegany              0                              51   \n",
       "2  06/07/2020        Bronx             72                           46052   \n",
       "3  06/07/2020       Broome              4                             624   \n",
       "4  06/07/2020  Cattaraugus              1                              95   \n",
       "\n",
       "   Total Number of Tests Performed  Cumulative Number of Tests Performed  \n",
       "0                             1194                                 32194  \n",
       "1                              149                                  3117  \n",
       "2                             3718                                222329  \n",
       "3                              745                                 22789  \n",
       "4                              245                                  7036  "
      ]
     },
     "execution_count": 37,
     "metadata": {},
     "output_type": "execute_result"
    }
   ],
   "source": [
    "ny_data.head()"
   ]
  },
  {
   "cell_type": "markdown",
   "metadata": {},
   "source": [
    "#### To avoid problems due to differences in how the county names are written, we want to use FIPS (county code) to identify counties. Since the NY site does not have the county codes, we will use a dataset that maps  county names to FIPS and join the two datasets."
   ]
  },
  {
   "cell_type": "code",
   "execution_count": 38,
   "metadata": {},
   "outputs": [],
   "source": [
    "#correcting a naming difference between the datasets\n",
    "county_codes.replace(\"St Lawrence\",\"St. Lawrence\",inplace=True)\n",
    "\n",
    "#st lawrence has the wrong county code so we're replacing it \n",
    "stlaw = county_codes[county_codes['County Name']=='St. Lawrence'].replace(36099, 36089)\n",
    "county_codes = county_codes[county_codes['County Name']!='St. Lawrence'].append(stlaw)"
   ]
  },
  {
   "cell_type": "code",
   "execution_count": 39,
   "metadata": {},
   "outputs": [],
   "source": [
    "county_code_df = county_codes.groupby(['County Name','County FIPS']).size().reset_index().drop(0,axis=1)"
   ]
  },
  {
   "cell_type": "code",
   "execution_count": 40,
   "metadata": {},
   "outputs": [],
   "source": [
    "#joining ny data w codes data to get FIPS info\n",
    "ny_data_fips = ny_data.set_index(\"County\").join(county_code_df.set_index(\"County Name\")).astype({'County FIPS': 'int32'})"
   ]
  },
  {
   "cell_type": "markdown",
   "metadata": {},
   "source": [
    "#### Collecting a list of columns that have the relevant infection and socioeconomic data we want to explore"
   ]
  },
  {
   "cell_type": "code",
   "execution_count": 41,
   "metadata": {},
   "outputs": [],
   "source": [
    "relevant_ses_columns = [\"Median_Household_Income_2018\",\\\n",
    "                        \"transit_scores - population weighted averages aggregated from town/city level to county\"]\n",
    "relevant_infection_columns = ['Test Date','New Positives',\\\n",
    "                              'Cumulative Number of Positives',\\\n",
    "                              'Total Number of Tests Performed','Cumulative Number of Tests Performed',]"
   ]
  },
  {
   "cell_type": "markdown",
   "metadata": {},
   "source": [
    "#### Joining testing data with socioeconomic data"
   ]
  },
  {
   "cell_type": "code",
   "execution_count": 42,
   "metadata": {},
   "outputs": [],
   "source": [
    "#joining infection w socioeconomic\n",
    "joined_df = county_data[county_data['State']=='NY'\\\n",
    "                               ].set_index('FIPS').join(ny_data_fips.set_index('County FIPS'))\n",
    "#dropping null column\n",
    "joined_df = joined_df[relevant_ses_columns\\\n",
    "                                      +relevant_infection_columns].drop(36000)"
   ]
  },
  {
   "cell_type": "code",
   "execution_count": 43,
   "metadata": {},
   "outputs": [],
   "source": [
    "#doing some clean up\n",
    "joined_df = joined_df.reset_index().rename(columns={'index':'FIPS'})\n",
    "joined_df['Test Date'] = pd.to_datetime(joined_df['Test Date'])"
   ]
  },
  {
   "cell_type": "code",
   "execution_count": 44,
   "metadata": {},
   "outputs": [
    {
     "data": {
      "text/html": [
       "<div>\n",
       "<style scoped>\n",
       "    .dataframe tbody tr th:only-of-type {\n",
       "        vertical-align: middle;\n",
       "    }\n",
       "\n",
       "    .dataframe tbody tr th {\n",
       "        vertical-align: top;\n",
       "    }\n",
       "\n",
       "    .dataframe thead th {\n",
       "        text-align: right;\n",
       "    }\n",
       "</style>\n",
       "<table border=\"1\" class=\"dataframe\">\n",
       "  <thead>\n",
       "    <tr style=\"text-align: right;\">\n",
       "      <th></th>\n",
       "      <th>FIPS</th>\n",
       "      <th>Median_Household_Income_2018</th>\n",
       "      <th>transit_scores - population weighted averages aggregated from town/city level to county</th>\n",
       "      <th>Test Date</th>\n",
       "      <th>New Positives</th>\n",
       "      <th>Cumulative Number of Positives</th>\n",
       "      <th>Total Number of Tests Performed</th>\n",
       "      <th>Cumulative Number of Tests Performed</th>\n",
       "    </tr>\n",
       "  </thead>\n",
       "  <tbody>\n",
       "    <tr>\n",
       "      <td>0</td>\n",
       "      <td>36001</td>\n",
       "      <td>64536.0</td>\n",
       "      <td>7.100041e+09</td>\n",
       "      <td>2020-06-07</td>\n",
       "      <td>17.0</td>\n",
       "      <td>1978.0</td>\n",
       "      <td>1194.0</td>\n",
       "      <td>32194.0</td>\n",
       "    </tr>\n",
       "    <tr>\n",
       "      <td>1</td>\n",
       "      <td>36001</td>\n",
       "      <td>64536.0</td>\n",
       "      <td>7.100041e+09</td>\n",
       "      <td>2020-06-06</td>\n",
       "      <td>8.0</td>\n",
       "      <td>1961.0</td>\n",
       "      <td>751.0</td>\n",
       "      <td>31000.0</td>\n",
       "    </tr>\n",
       "    <tr>\n",
       "      <td>2</td>\n",
       "      <td>36001</td>\n",
       "      <td>64536.0</td>\n",
       "      <td>7.100041e+09</td>\n",
       "      <td>2020-06-05</td>\n",
       "      <td>12.0</td>\n",
       "      <td>1953.0</td>\n",
       "      <td>1164.0</td>\n",
       "      <td>30249.0</td>\n",
       "    </tr>\n",
       "    <tr>\n",
       "      <td>3</td>\n",
       "      <td>36001</td>\n",
       "      <td>64536.0</td>\n",
       "      <td>7.100041e+09</td>\n",
       "      <td>2020-06-04</td>\n",
       "      <td>11.0</td>\n",
       "      <td>1941.0</td>\n",
       "      <td>1179.0</td>\n",
       "      <td>29085.0</td>\n",
       "    </tr>\n",
       "    <tr>\n",
       "      <td>4</td>\n",
       "      <td>36001</td>\n",
       "      <td>64536.0</td>\n",
       "      <td>7.100041e+09</td>\n",
       "      <td>2020-06-03</td>\n",
       "      <td>10.0</td>\n",
       "      <td>1930.0</td>\n",
       "      <td>817.0</td>\n",
       "      <td>27906.0</td>\n",
       "    </tr>\n",
       "  </tbody>\n",
       "</table>\n",
       "</div>"
      ],
      "text/plain": [
       "    FIPS  Median_Household_Income_2018  \\\n",
       "0  36001                       64536.0   \n",
       "1  36001                       64536.0   \n",
       "2  36001                       64536.0   \n",
       "3  36001                       64536.0   \n",
       "4  36001                       64536.0   \n",
       "\n",
       "   transit_scores - population weighted averages aggregated from town/city level to county  \\\n",
       "0                                       7.100041e+09                                         \n",
       "1                                       7.100041e+09                                         \n",
       "2                                       7.100041e+09                                         \n",
       "3                                       7.100041e+09                                         \n",
       "4                                       7.100041e+09                                         \n",
       "\n",
       "   Test Date  New Positives  Cumulative Number of Positives  \\\n",
       "0 2020-06-07           17.0                          1978.0   \n",
       "1 2020-06-06            8.0                          1961.0   \n",
       "2 2020-06-05           12.0                          1953.0   \n",
       "3 2020-06-04           11.0                          1941.0   \n",
       "4 2020-06-03           10.0                          1930.0   \n",
       "\n",
       "   Total Number of Tests Performed  Cumulative Number of Tests Performed  \n",
       "0                           1194.0                               32194.0  \n",
       "1                            751.0                               31000.0  \n",
       "2                           1164.0                               30249.0  \n",
       "3                           1179.0                               29085.0  \n",
       "4                            817.0                               27906.0  "
      ]
     },
     "execution_count": 44,
     "metadata": {},
     "output_type": "execute_result"
    }
   ],
   "source": [
    "joined_df.head()"
   ]
  },
  {
   "cell_type": "code",
   "execution_count": 45,
   "metadata": {},
   "outputs": [],
   "source": [
    "#renaming columns\n",
    "joined_df = joined_df.rename(columns={'Density per square mile of land area - Population':'Population Density',\\\n",
    "                        'transit_scores - population weighted averages aggregated from town/city level to county':'Transit Scores',\\\n",
    "                       'Median_Household_Income_2018':'Median Income',\n",
    "                       'Cumulative Number of Positives': 'Cumulative Positives',\n",
    "                       'Total Number of Tests Performed': 'Total Tests',\n",
    "                       'Cumulative Number of Tests Performed': 'Cumulative Tests'})"
   ]
  },
  {
   "cell_type": "code",
   "execution_count": 46,
   "metadata": {},
   "outputs": [],
   "source": [
    "joined_df.to_csv(\"./data/ny_county_data.csv\")"
   ]
  }
 ],
 "metadata": {
  "kernelspec": {
   "display_name": "Python 3",
   "language": "python",
   "name": "python3"
  },
  "language_info": {
   "codemirror_mode": {
    "name": "ipython",
    "version": 3
   },
   "file_extension": ".py",
   "mimetype": "text/x-python",
   "name": "python",
   "nbconvert_exporter": "python",
   "pygments_lexer": "ipython3",
   "version": "3.7.4"
  }
 },
 "nbformat": 4,
 "nbformat_minor": 2
}
